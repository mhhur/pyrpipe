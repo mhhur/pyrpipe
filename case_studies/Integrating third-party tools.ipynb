{
 "cells": [
  {
   "cell_type": "markdown",
   "metadata": {},
   "source": [
    "# Integrating third-party tools in *pyrpipe*\n",
    "Executing any shell command with pyrpipe is easy and straight-forward. \n",
    "\n",
    "The `Runnable` class can used to import any Unix command into python in an object oriented manner. The `Runnable` class executes all commands via the `pyrpipe_engine` module, which provides helper functions to easily execute and log shell commands. \n",
    "Users can directly use `execute_command()` function from `pyrpipe_engine` to directly run Unix commands.\n",
    "\n",
    "**NOTE:** Inexperienced users must be careful when executing shell commands as some commands can be dangerous and cause loss of data or even worse. Same applies when executing shell commands via `pyrpipe`. `pyrpipe` provides `--dry-run` option that users can use to see the shell commands without executing them (Use this before running any scripts shared via a source you dont trust (also go through the python code)).  In pyrpipe only the `get_shell_output()` method provides `shell=True` option for subprocess.  This comes in handy when executing commands that relies on environment variables, pipes, output redirection etc., but can also execute commands like `rm -r *` which deletes everything in the current working directory.\n",
    "`pyrpipe` has a `--safe-mode` flag that can disable `rm` commands.\n"
   ]
  },
  {
   "cell_type": "markdown",
   "metadata": {},
   "source": [
    "## The Runnable class\n",
    "\n",
    "To import a Unix command one can directly create a Runnable object and specify the command name. The following example imports the [orfipy](https://github.com/urmi-21/orfipy) command into python."
   ]
  },
  {
   "cell_type": "code",
   "execution_count": 3,
   "metadata": {},
   "outputs": [
    {
     "name": "stderr",
     "output_type": "stream",
     "text": [
      "\u001b[93mStart:21-01-01 13:43:15\u001b[0m\n",
      "\u001b[96m$ orfipy --outdir orfipy_out --procs 3 --bed orfs.bed sample_data/test.fa\u001b[0m\n"
     ]
    },
    {
     "name": "stdout",
     "output_type": "stream",
     "text": [
      "['CNT0043697\\t39\\t483\\tID=CNT0043697_ORF.1;ORF_type=complete;ORF_len=444;ORF_frame=1;Start:ATG;Stop:TAA\\t0\\t+\\n', 'CNT0043697\\t549\\t666\\tID=CNT0043697_ORF.2;ORF_type=complete;ORF_len=117;ORF_frame=1;Start:TTG;Stop:TAG\\t0\\t+\\n', 'CNT0043697\\t64\\t550\\tID=CNT0043697_ORF.3;ORF_type=complete;ORF_len=486;ORF_frame=2;Start:TTG;Stop:TGA\\t0\\t+\\n', 'CNT0043697\\t32\\t65\\tID=CNT0043697_ORF.4;ORF_type=complete;ORF_len=33;ORF_frame=3;Start:ATG;Stop:TGA\\t0\\t+\\n', 'CNT0043697\\t71\\t203\\tID=CNT0043697_ORF.5;ORF_type=complete;ORF_len=132;ORF_frame=3;Start:TTG;Stop:TAA\\t0\\t+\\n', 'CNT0043697\\t560\\t677\\tID=CNT0043697_ORF.6;ORF_type=complete;ORF_len=117;ORF_frame=3;Start:CTG;Stop:TAA\\t0\\t+\\n', 'CNT0043697\\t642\\t699\\tID=CNT0043697_ORF.7;ORF_type=complete;ORF_len=57;ORF_frame=-1;Start:TTG;Stop:TGA\\t0\\t-\\n', 'CNT0043697\\t81\\t627\\tID=CNT0043697_ORF.8;ORF_type=complete;ORF_len=546;ORF_frame=-1;Start:ATG;Stop:TAA\\t0\\t-\\n', 'CNT0043697\\t32\\t431\\tID=CNT0043697_ORF.9;ORF_type=complete;ORF_len=399;ORF_frame=-2;Start:TTG;Stop:TAG\\t0\\t-\\n', 'CNT0043697\\t631\\t676\\tID=CNT0043697_ORF.10;ORF_type=complete;ORF_len=45;ORF_frame=-3;Start:TTG;Stop:TAG\\t0\\t-\\n']\n"
     ]
    },
    {
     "name": "stderr",
     "output_type": "stream",
     "text": [
      "\u001b[93mEnd:21-01-01 13:43:15\u001b[0m\n",
      "\u001b[92mTime taken:0:00:00\u001b[0m\n"
     ]
    }
   ],
   "source": [
    "from pyrpipe.runnable import Runnable\n",
    "orfipy=Runnable(command='orfipy')\n",
    "#specify orfipy options; these can be specified into orfipy.yaml too\n",
    "param={'--outdir':'orfipy_out','--procs':'3','--bed':'orfs.bed'}\n",
    "infile='sample_data/test.fa'\n",
    "orfipy.run(infile,**param)\n",
    "#above commands create a file 'orfipy_out/orfs.bed'\n",
    "#print 10 lines of output\n",
    "with open('orfipy_out/orfs.bed') as f:\n",
    "    nlines = [next(f) for x in range(10)]\n",
    "print(nlines)"
   ]
  },
  {
   "cell_type": "markdown",
   "metadata": {},
   "source": [
    "### Targets and dependencies\n",
    "One can specify required dependencies and expected target files in the run() method\n",
    "Replacing the call to `run()` with the following will verify the required files and the target files.\n",
    "If command is interrupted, pyrpipe will scan for `Locked` taget files and resume from where the pipeline was interrupted."
   ]
  },
  {
   "cell_type": "code",
   "execution_count": 4,
   "metadata": {},
   "outputs": [
    {
     "name": "stderr",
     "output_type": "stream",
     "text": [
      "\u001b[92mTarget files orfipy_out/orfs.bed already exist.\u001b[0m\n"
     ]
    },
    {
     "data": {
      "text/plain": [
       "True"
      ]
     },
     "execution_count": 4,
     "metadata": {},
     "output_type": "execute_result"
    }
   ],
   "source": [
    "orfipy.run(infile,requires=infile,target='orfipy_out/orfs.bed',**param)"
   ]
  },
  {
   "cell_type": "markdown",
   "metadata": {},
   "source": [
    "## Building APIs\n",
    "One can extend the Runnable class to provide custom APIs to Unix tools. The RNA-Seq API provided by pyrpipe uses this framework. As a small example is provided in the [tutorial](https://pyrpipe.readthedocs.io/en/latest/?badge=latest)"
   ]
  },
  {
   "cell_type": "markdown",
   "metadata": {},
   "source": [
    "## The pyrpipe_engine module\n",
    "\n",
    "The `pyrpipe_engine` module contains the necessary functions to execute the commands. User can directly use these functions to run commands. All these function are decorated by the `dryable` decorator and are automatically turned off if pyrpipe scripts are run with `--dry-run` option.\n",
    "\n",
    "A list of these functions is provided here. For details refer to the [API docs](https://pyrpipe.readthedocs.io/en/latest/?badge=latest)\n",
    "\n",
    "| Function | Description |\n",
    "| --- | --- |\n",
    "| execute_command | Runs a command, logs the status and returns the status (True or False) |\n",
    "| get_shell_output | Runs a command and returns a tuple (returncode, stdout and stderr) |\n",
    "| get_return_status | Runs a command and returns True if command succeeded or False otherwise |\n",
    "| execute_commandRealtime | Runs a command and print output in real-time |\n"
   ]
  },
  {
   "cell_type": "markdown",
   "metadata": {},
   "source": [
    "### The execute_command() method\n",
    "\n",
    "Execute a command, log the details and return the status (True or False).\n",
    "\n",
    "The following example executes a simple `ls -l` command. The command is not logged (`logs=False`) and the stdout is printed to screen as (`verbose=True`). See API docs for more information [`execute_command()`](https://pyrpipe.readthedocs.io/en/latest/pyrpipe.html#pyrpipe.pyrpipe_engine.execute_command)\n",
    "\n"
   ]
  },
  {
   "cell_type": "code",
   "execution_count": 1,
   "metadata": {},
   "outputs": [
    {
     "name": "stderr",
     "output_type": "stream",
     "text": [
      "\u001b[93mReading configuration from pyrpipe_conf.yaml\u001b[0m\n",
      "\u001b[93mStart:21-01-17 19:04:34\u001b[0m\n",
      "\u001b[96m$ ls -l\u001b[0m\n",
      "\u001b[96mSTDOUT:\n",
      "total 56\n",
      "drwxr-xr-x  8 usingh usingh  4096 Jan  4 15:00 Athaliana_transcript_assembly\n",
      "drwxr-xr-x  4 usingh usingh  4096 Jan 17 13:41 Covid_RNA-Seq\n",
      "drwxr-xr-x  3 usingh usingh  4096 Jan 11 11:24 GTEx_processing\n",
      "-rw-r--r--  1 usingh usingh 16955 Jan 17 19:00 Integrating third-party tools.ipynb\n",
      "drwxr-xr-x 11 usingh usingh  4096 Jan  4 15:00 Maize_lncRNA_prediction\n",
      "drwxr-xr-x  2 usingh usingh  4096 Jan  4 15:00 orfipy_out\n",
      "-rw-r--r--  1 usingh usingh    12 Jan  4 15:00 pyrpipe_conf.yaml\n",
      "drwxr-xr-x  2 usingh usingh  4096 Dec 31 17:02 pyrpipe_logs\n",
      "drwxr-xr-x  3 usingh usingh  4096 Mar  7  2020 sample_data\n",
      "drwxr-xr-x  3 usingh usingh  4096 Jan  5 12:24 Snakemake_example\n",
      "\u001b[0m\n",
      "\u001b[93mEnd:21-01-17 19:04:34\u001b[0m\n",
      "\u001b[92mTime taken:0:00:00\u001b[0m\n"
     ]
    },
    {
     "data": {
      "text/plain": [
       "True"
      ]
     },
     "execution_count": 1,
     "metadata": {},
     "output_type": "execute_result"
    }
   ],
   "source": [
    "#Import necessary modules\n",
    "from pyrpipe import pyrpipe_engine as pe\n",
    "\n",
    "#run a shell commad\n",
    "pe.execute_command(['ls', '-l'],logs=False,verbose=True)"
   ]
  },
  {
   "cell_type": "markdown",
   "metadata": {},
   "source": [
    "## Commands in a `string`\n",
    "A command in a `string` for mat can be easily converted to a list."
   ]
  },
  {
   "cell_type": "code",
   "execution_count": 6,
   "metadata": {},
   "outputs": [
    {
     "name": "stderr",
     "output_type": "stream",
     "text": [
      "\u001b[93mStart:21-01-01 13:44:00\u001b[0m\n",
      "\u001b[96m$ blastx -query sample_data/test.fa -db sample_data/pldb/mydb -qcov_hsp_perc 30 -num_threads 2 -out sample_data/blast_out\u001b[0m\n",
      "\u001b[93mEnd:21-01-01 13:44:04\u001b[0m\n",
      "\u001b[92mTime taken:0:00:04\u001b[0m\n",
      "\u001b[93mStart:21-01-01 13:44:04\u001b[0m\n",
      "\u001b[96m$ head -20 sample_data/blast_out\u001b[0m\n",
      "\u001b[96mSTDOUT:\n",
      "BLASTX 2.7.1+\n",
      "\n",
      "\n",
      "Reference: Stephen F. Altschul, Thomas L. Madden, Alejandro A.\n",
      "Schaffer, Jinghui Zhang, Zheng Zhang, Webb Miller, and David J.\n",
      "Lipman (1997), \"Gapped BLAST and PSI-BLAST: a new generation of\n",
      "protein database search programs\", Nucleic Acids Res. 25:3389-3402.\n",
      "\n",
      "\n",
      "\n",
      "Database: mydb\n",
      "           250 sequences; 128,483 total letters\n",
      "\n",
      "\n",
      "\n",
      "Query= CNT0043697\n",
      "\n",
      "Length=699\n",
      "\n",
      "\n",
      "\u001b[0m\n",
      "\u001b[93mEnd:21-01-01 13:44:04\u001b[0m\n",
      "\u001b[92mTime taken:0:00:00\u001b[0m\n"
     ]
    },
    {
     "data": {
      "text/plain": [
       "True"
      ]
     },
     "execution_count": 6,
     "metadata": {},
     "output_type": "execute_result"
    }
   ],
   "source": [
    "cmd=\"blastx -query sample_data/test.fa -db sample_data/pldb/mydb -qcov_hsp_perc 30 -num_threads 2 -out sample_data/blast_out\"\n",
    "cmdList=cmd.split()\n",
    "pe.execute_command(cmdList,verbose=True,logs=False)\n",
    "\n",
    "#head the output\n",
    "pe.execute_command(['head','-20','sample_data/blast_out'],verbose=True,logs=False,objectid=\"\",command_name=\"\")"
   ]
  },
  {
   "cell_type": "markdown",
   "metadata": {},
   "source": [
    "## Commands in a `dict`\n",
    "The `pyrpipe_utils` module contains helper functions [`parse_unix_args()`](https://pyrpipe.readthedocs.io/en/latest/pyrpipe.html#pyrpipe.pyrpipe_utils.parse_unix_args) and [`parse_java_args()`](https://pyrpipe.readthedocs.io/en/latest/pyrpipe.html#pyrpipe.pyrpipe_utils.parse_java_args) to convert commands present in a `dict` to a `list`. This option can be useful to read commands or rules stored in **.json or .yaml** files and execute them with pyrpipe.\n",
    "\n",
    "**Note: When using a Runnable object, this parsing is automatically performed to merge the command options with the command**"
   ]
  },
  {
   "cell_type": "code",
   "execution_count": 7,
   "metadata": {},
   "outputs": [
    {
     "name": "stderr",
     "output_type": "stream",
     "text": [
      "\u001b[93mStart:21-01-01 13:48:24\u001b[0m\n",
      "\u001b[96m$ blastx -query sample_data/test.fa -db sample_data/pldb/mydb -qcov_hsp_perc 30 -num_threads 2 -out sample_data/blast_out2\u001b[0m\n",
      "\u001b[93mEnd:21-01-01 13:48:27\u001b[0m\n",
      "\u001b[92mTime taken:0:00:03\u001b[0m\n",
      "\u001b[93mStart:21-01-01 13:48:27\u001b[0m\n",
      "\u001b[96m$ head -20 sample_data/blast_out2\u001b[0m\n",
      "\u001b[96mSTDOUT:\n",
      "BLASTX 2.7.1+\n",
      "\n",
      "\n",
      "Reference: Stephen F. Altschul, Thomas L. Madden, Alejandro A.\n",
      "Schaffer, Jinghui Zhang, Zheng Zhang, Webb Miller, and David J.\n",
      "Lipman (1997), \"Gapped BLAST and PSI-BLAST: a new generation of\n",
      "protein database search programs\", Nucleic Acids Res. 25:3389-3402.\n",
      "\n",
      "\n",
      "\n",
      "Database: mydb\n",
      "           250 sequences; 128,483 total letters\n",
      "\n",
      "\n",
      "\n",
      "Query= CNT0043697\n",
      "\n",
      "Length=699\n",
      "\n",
      "\n",
      "\u001b[0m\n",
      "\u001b[93mEnd:21-01-01 13:48:27\u001b[0m\n",
      "\u001b[92mTime taken:0:00:00\u001b[0m\n"
     ]
    },
    {
     "data": {
      "text/plain": [
       "True"
      ]
     },
     "execution_count": 7,
     "metadata": {},
     "output_type": "execute_result"
    }
   ],
   "source": [
    "from pyrpipe import pyrpipe_utils as pu\n",
    "#run blast\n",
    "\"\"\"NOTE: python 3.6 and higher keeps the order in which dict elements are inserted.\n",
    "To provide positional arguments use \"--\" as key followed by a tuple. for example:\n",
    "dict={'-threads':'10','--':('file1','file2')} will be parsed as\n",
    "\n",
    "-threads 10 file1 file2\n",
    "\n",
    "\"\"\"\n",
    "\n",
    "blast_parameters={'-query':'sample_data/test.fa',\n",
    "                  '-db': 'sample_data/pldb/mydb',\n",
    "                  '-qcov_hsp_perc': '30',\n",
    "                  '-num_threads': '2',\n",
    "                  '-out': 'sample_data/blast_out2'\n",
    "}\n",
    "\n",
    "blast_cmd=['blastx']\n",
    "\n",
    "param_list=pu.parse_unix_args([],blast_parameters) \n",
    "#Note: the first argument, valid_args_list, can be provided to ignore invalid arguments\n",
    "\n",
    "#add parameters\n",
    "blast_cmd.extend(param_list)\n",
    "pe.execute_command(blast_cmd,verbose=True,logs=False)\n",
    "\n",
    "#head the output\n",
    "pe.execute_command(['head','-20','sample_data/blast_out2'],verbose=True,logs=False)\n"
   ]
  },
  {
   "cell_type": "markdown",
   "metadata": {},
   "source": [
    "## Getting stdout from command\n",
    "The [`get_shell_output()`](https://pyrpipe.readthedocs.io/en/latest/pyrpipe.html#pyrpipe.pyrpipe_engine.get_shell_output) can directly returns tuple with returncode, stdout, and stderr. returncode is an integer specifying the return status of command. stdout, and stderr are strings."
   ]
  },
  {
   "cell_type": "code",
   "execution_count": 11,
   "metadata": {},
   "outputs": [
    {
     "name": "stdout",
     "output_type": "stream",
     "text": [
      "(0, '364K\\tsample_data/blast_out2\\n', '')\n",
      "364K\tsample_data/blast_out2\n",
      "\n"
     ]
    }
   ],
   "source": [
    "result=pe.get_shell_output(['du', '-sh','sample_data/blast_out2'])\n",
    "#result contains return code, stdout, stderr\n",
    "print(result)\n",
    "\n",
    "#check if command was successful\n",
    "if result[0] == 0:\n",
    "    #get the stdout as string\n",
    "    print(result[1])\n",
    "    "
   ]
  },
  {
   "cell_type": "markdown",
   "metadata": {},
   "source": [
    "## Get realtime output from shell\n",
    "The `execute_commandRealtime()` produces outputs to screen in realtime."
   ]
  },
  {
   "cell_type": "code",
   "execution_count": 12,
   "metadata": {},
   "outputs": [
    {
     "name": "stdout",
     "output_type": "stream",
     "text": [
      "PING google.com(ord08s13-in-x0e.1e100.net (2607:f8b0:4009:807::200e)) 56 data bytes\n",
      "\n",
      "64 bytes from ord38s19-in-x0e.1e100.net (2607:f8b0:4009:807::200e): icmp_seq=1 ttl=119 time=15.1 ms\n",
      "\n",
      "64 bytes from ord38s19-in-x0e.1e100.net (2607:f8b0:4009:807::200e): icmp_seq=2 ttl=119 time=15.1 ms\n",
      "\n",
      "64 bytes from ord38s19-in-x0e.1e100.net (2607:f8b0:4009:807::200e): icmp_seq=3 ttl=119 time=15.1 ms\n",
      "\n",
      "64 bytes from ord38s19-in-x0e.1e100.net (2607:f8b0:4009:807::200e): icmp_seq=4 ttl=119 time=15.1 ms\n",
      "\n",
      "\n",
      "\n",
      "--- google.com ping statistics ---\n",
      "\n",
      "4 packets transmitted, 4 received, 0% packet loss, time 3003ms\n",
      "\n",
      "rtt min/avg/max/mdev = 15.125/15.156/15.189/0.091 ms\n",
      "\n"
     ]
    }
   ],
   "source": [
    "cmd=['ping','-c','4','google.com']\n",
    "\n",
    "for output in pe.execute_commandRealtime(cmd):\n",
    "    print (output)"
   ]
  },
  {
   "cell_type": "code",
   "execution_count": null,
   "metadata": {},
   "outputs": [],
   "source": []
  }
 ],
 "metadata": {
  "kernelspec": {
   "display_name": "Python 3",
   "language": "python",
   "name": "python3"
  },
  "language_info": {
   "codemirror_mode": {
    "name": "ipython",
    "version": 3
   },
   "file_extension": ".py",
   "mimetype": "text/x-python",
   "name": "python",
   "nbconvert_exporter": "python",
   "pygments_lexer": "ipython3",
   "version": "3.7.5"
  }
 },
 "nbformat": 4,
 "nbformat_minor": 2
}
